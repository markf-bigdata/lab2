{
 "cells": [
  {
   "cell_type": "markdown",
   "metadata": {},
   "source": [
    "# Analysis of Burke Gilman Trail Data\n",
    "Mark 9/30 Big Data"
   ]
  },
  {
   "cell_type": "markdown",
   "metadata": {},
   "source": [
    "## Abstract\n",
    "In this lab we will be analyzing the Burke Gilman Trail data that is being published from February 4th 2014 to present. The questions that we will be trying to answer are: What is the average/highest/lowest amount of pedestrians to use this trail? What is the average/highest/lowest amount of bikers to use this trail?"
   ]
  },
  {
   "cell_type": "markdown",
   "metadata": {},
   "source": [
    "## Dataset Preparation\n",
    "Our dataset will be extracting:\n",
    "- Pedestrians going north/south\n",
    "- Bikers going north/south\n",
    "\n",
    "We got our dataset from: https://data.seattle.gov/Transportation/Burke-Gilman-Trail-north-of-NE-70th-St-Bike-and-Pe/2z5v-ecg8"
   ]
  },
  {
   "cell_type": "code",
   "execution_count": 56,
   "metadata": {},
   "outputs": [],
   "source": [
    "# Opening the file and storing all data in a list\n",
    "file_data = open('Burke_Gilman_Trail_north_of_NE_70th_St_Bike_and_Ped_Counter.csv', 'r');\n",
    "all_data = [];\n",
    "for row in file_data:\n",
    "    all_data.append(row);\n",
    "file_data.close;\n",
    "\n",
    "\n",
    "# Deleting the first row of data\n",
    "del all_data[0];\n",
    "# Adding all pedestrian data to correct list and all bike data to correct list\n",
    "tot_ped = [];\n",
    "tot_bike = [];\n",
    "# Adding all pedestrian and bike data to the correct lists and cleaning the data of all empty or \\n strings\n",
    "for item in range (len(all_data)):\n",
    "    data_split = all_data[item].split(\",\");\n",
    "    if ((data_split[2] != '') and (data_split[2] != '\\n')) :\n",
    "        tot_ped.append(int(data_split[2]));\n",
    "    if ((data_split[3] != '') and (data_split[3] != '\\n')):\n",
    "        tot_ped.append(int(data_split[3]));\n",
    "    if ((data_split[4] != '') and (data_split[4] != '\\n')):\n",
    "        tot_bike.append(int(data_split[4]));\n",
    "    if ((data_split[5] != '') and (data_split[5] != '\\n')):\n",
    "        tot_bike.append(int(data_split[5]));"
   ]
  },
  {
   "cell_type": "markdown",
   "metadata": {},
   "source": [
    "I extracted all the data we are using into lists in this code. All the if statements that are run clean the dataset of all data in the set that is empty"
   ]
  },
  {
   "cell_type": "markdown",
   "metadata": {},
   "source": [
    "## Data Modeling"
   ]
  },
  {
   "cell_type": "code",
   "execution_count": 57,
   "metadata": {},
   "outputs": [
    {
     "name": "stdout",
     "output_type": "stream",
     "text": [
      "PEDESTRIAN DATA:\n",
      "The minimum number of pedestrians to go on the trail in an hour was 0 pedestrians\n",
      "The maximum number of pedestrians to go on the trail in an hour was 4095 pedestrians\n",
      "The average number of pedestrians to go on the trail in an hour was 15 pedestrians \n",
      "\n",
      "BIKE DATA\n",
      "The minimum number of bikers to go on the trail in an hour was 0 bikers\n",
      "The maximum number of bikers to go on the trail in an hour was 8191 bikers\n",
      "The average number of bikers to go on the trail in an hour was 22 bikers\n"
     ]
    }
   ],
   "source": [
    "# Getting the minumum and maximum amount of pedestrians and bikers\n",
    "min_ped = min(tot_ped);\n",
    "max_ped = max(tot_ped);\n",
    "min_bike = min(tot_bike);\n",
    "max_bike = max(tot_bike);\n",
    "\n",
    "# Finding average amount of pedestrians and bikers\n",
    "avg_ped = round(sum(tot_ped) / len(tot_ped));\n",
    "avg_bike = round(sum(tot_bike) / len(tot_ped));\n",
    "\n",
    "\n",
    "print(\"PEDESTRIAN DATA:\")\n",
    "print(\"The minimum number of pedestrians to go on the trail in an hour was\", min_ped, \"pedestrians\");\n",
    "print(\"The maximum number of pedestrians to go on the trail in an hour was\", max_ped, \"pedestrians\");\n",
    "print(\"The average number of pedestrians to go on the trail in an hour was\", avg_ped, \"pedestrians\", '\\n');\n",
    "print(\"BIKE DATA\");\n",
    "print(\"The minimum number of bikers to go on the trail in an hour was\", min_bike, \"bikers\");\n",
    "print(\"The maximum number of bikers to go on the trail in an hour was\", max_bike, \"bikers\");\n",
    "print(\"The average number of bikers to go on the trail in an hour was\", avg_bike, \"bikers\");"
   ]
  },
  {
   "cell_type": "markdown",
   "metadata": {},
   "source": [
    "To find all of the data for the pedestrians and bikers, I used the python keywords `min`, `max`, `sum` and `len` to find the minimum, maximum and average biker/pedestrian count. To find the average, I added up the total count of the list using `sum` then divided that by `len`."
   ]
  },
  {
   "cell_type": "markdown",
   "metadata": {},
   "source": [
    "## Data Analysis and Conclusion\n",
    "\n",
    "Using this data, I found that the average amount of bikers in an hour was 22 bikers and the average number of pedestrians in an hour was 15. I also learned that the lowest number of pedestrians to use the trail in an hour was 0 and the highest was 4095. The lowest number of bikers to use the trail in an hour was 0 and the highest number of them was 8191. This brings me to the conclusion that bike and pedestrian usage varies greatly depending on the hour and day. Sometimes a trail can get 0 bikers or pedestrians in an hour and some other time it can get thousands of bikers/pedestrians in an hour\n",
    "Some questions I have are: \n",
    "- Why did 8191 bikers go on the trail in an hour? Was there a special event?\n",
    "- Why did 4095 pedestrians go on the trail in an hour? Was there some special\n",
    "- What is the most common time for there to be 0 bikers/pedestrians on a trail in an hour?"
   ]
  },
  {
   "cell_type": "markdown",
   "metadata": {},
   "source": [
    "## Acknowlegements\n",
    "- Ms. Sconyers for helping me solve some coding problems I had\n",
    "- Rafael Zuniga for creating the dataset I used"
   ]
  }
 ],
 "metadata": {
  "kernelspec": {
   "display_name": "Python 3",
   "language": "python",
   "name": "python3"
  },
  "language_info": {
   "codemirror_mode": {
    "name": "ipython",
    "version": 3
   },
   "file_extension": ".py",
   "mimetype": "text/x-python",
   "name": "python",
   "nbconvert_exporter": "python",
   "pygments_lexer": "ipython3",
   "version": "3.7.3"
  }
 },
 "nbformat": 4,
 "nbformat_minor": 2
}
